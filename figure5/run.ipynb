{
 "cells": [
  {
   "cell_type": "code",
   "execution_count": 11,
   "metadata": {},
   "outputs": [],
   "source": [
    "import pandas as pd\n",
    "from pathlib import Path\n",
    "from glob import glob\n",
    "import os\n",
    "from sklearn.model_selection import StratifiedKFold"
   ]
  },
  {
   "cell_type": "code",
   "execution_count": 10,
   "metadata": {},
   "outputs": [],
   "source": [
    "Raw_Data = \"/data/data/TCGA/lung/Raw_Data\""
   ]
  },
  {
   "cell_type": "code",
   "execution_count": 2,
   "metadata": {},
   "outputs": [],
   "source": [
    "dataset = pd.read_csv(\"./data/lusc_group.csv\")"
   ]
  },
  {
   "cell_type": "code",
   "execution_count": null,
   "metadata": {},
   "outputs": [],
   "source": [
    "dataset"
   ]
  },
  {
   "cell_type": "code",
   "execution_count": 3,
   "metadata": {},
   "outputs": [],
   "source": [
    "samples = dataset[\"sample\"].values\n",
    "risks = dataset[\"risk_level\"].values"
   ]
  },
  {
   "cell_type": "code",
   "execution_count": null,
   "metadata": {},
   "outputs": [],
   "source": [
    "L = []\n",
    "for sample in samples:\n",
    "    # print(glob(\"{}/{}*{}*.svs\".format(Raw_Data, sample, \"DX\")))\n",
    "    if len(glob(\"{}/{}*{}*.svs\".format(Raw_Data, sample, \"DX\"))) == 0:\n",
    "        continue\n",
    "    l = [sample, glob(\"{}/{}*{}*.svs\".format(Raw_Data, sample, \"DX\"))[0]]\n",
    "    L.append(l)\n",
    "\n",
    "f = pd.DataFrame(L, columns=['slide_id', 'slide_path'])\n",
    "f.to_csv(\"./hs2p/data/panda.csv\", index=None)"
   ]
  },
  {
   "cell_type": "code",
   "execution_count": null,
   "metadata": {},
   "outputs": [],
   "source": []
  },
  {
   "cell_type": "code",
   "execution_count": 4,
   "metadata": {},
   "outputs": [],
   "source": [
    "pt_files = \"/data/data/TCGA/lung/CLAM_h5_pt/pt_files\"\n",
    "K = 5"
   ]
  },
  {
   "cell_type": "code",
   "execution_count": null,
   "metadata": {},
   "outputs": [],
   "source": [
    "X  = []\n",
    "y = []\n",
    "y_ = []\n",
    "\n",
    "for s,r in zip(samples, risks):\n",
    "    if len(glob(\"{}/{}*{}*.pt\".format(pt_files, s, \"DX\"))) == 0:\n",
    "        continue\n",
    "    X.append(Path(glob(\"{}/{}*{}*.pt\".format(pt_files, s, \"DX\"))[0]).stem)\n",
    "    y.append(1 if r == \"High\" else 0)\n",
    "    y_.append(r)\n",
    "\n",
    "data = [\n",
    "        pd.Series(X),\n",
    "        pd.Series(X), \n",
    "        pd.Series(y_)\n",
    "]\n",
    "df = pd.concat(data, ignore_index=True, axis=1)\n",
    "df.columns = ['case_id', 'slide_id', 'label']\n",
    "df.to_csv(\"./CLAM/dataset_csv/risk_dummy_clean.csv\", index=None)"
   ]
  },
  {
   "cell_type": "code",
   "execution_count": null,
   "metadata": {},
   "outputs": [],
   "source": [
    "skf = StratifiedKFold(n_splits=K, shuffle=True)\n",
    "for fold, (train, test) in enumerate(skf.split(X, y)):\n",
    "    train_data = []\n",
    "    test_data = []\n",
    "\n",
    "    train_set = pd.Series(X).iloc[train].reset_index(drop=True)\n",
    "    test_set = pd.Series(X).iloc[test].reset_index(drop=True)\n",
    "\n",
    "    df = pd.concat([train_set, test_set], ignore_index=True, axis=1)\n",
    "    df.columns = ['train', 'val']\n",
    "    df.to_csv(os.getcwd()+'/CLAM/splits/Clam_split_{}.csv'.format(fold), index=None)"
   ]
  },
  {
   "cell_type": "code",
   "execution_count": 14,
   "metadata": {},
   "outputs": [],
   "source": [
    "for k in range(K):\n",
    "    dataset = pd.read_csv(\"./CLAM/splits/Clam_split_{}.csv\".format(k))\n",
    "\n",
    "    data = [\n",
    "        pd.Series(dataset.train),\n",
    "        pd.Series(dataset.val), \n",
    "        pd.Series(dataset.val)\n",
    "    ]\n",
    "\n",
    "    df = pd.concat(data, ignore_index=True, axis=1)\n",
    "    df.columns = [\"train\", \"val\", \"test\"]\n",
    "\n",
    "    df.to_csv(\"./CLAM/splits/task_1_lung_risk_100/splits_{}.csv\".format(k), index=None)"
   ]
  },
  {
   "cell_type": "code",
   "execution_count": null,
   "metadata": {},
   "outputs": [],
   "source": [
    "python CLAM/extract_features_fp.py --data_h5_dir /data2_image_192_168_10_11/data/public_dir/xisx/20250227_JiL_lung/hs2p/output/patch_extraction/2025-02-27_17_04 --data_slide_dir /data/data/TCGA/lung/Raw_Data/ --csv_path /data2_image_192_168_10_11/data/public_dir/xisx/20250227_JiL_lung/hs2p/output/patch_extraction/2025-02-27_17_04/process_list.csv --feat_dir /data2_image_192_168_10_11/data/public_dir/xisx/20250227_JiL_lung/feat/ --model_name uni_v1"
   ]
  }
 ],
 "metadata": {
  "kernelspec": {
   "display_name": "pytorch_env",
   "language": "python",
   "name": "pytorch_env"
  },
  "language_info": {
   "codemirror_mode": {
    "name": "ipython",
    "version": 3
   },
   "file_extension": ".py",
   "mimetype": "text/x-python",
   "name": "python",
   "nbconvert_exporter": "python",
   "pygments_lexer": "ipython3",
   "version": "3.9.13"
  }
 },
 "nbformat": 4,
 "nbformat_minor": 2
}
